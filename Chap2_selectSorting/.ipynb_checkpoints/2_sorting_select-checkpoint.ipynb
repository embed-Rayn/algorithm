{
 "cells": [
  {
   "cell_type": "code",
   "execution_count": 3,
   "metadata": {},
   "outputs": [
    {
     "name": "stdout",
     "output_type": "stream",
     "text": [
      "[1, 2, 3, 4, 5, 6, 7, 8, 9, 10]\n"
     ]
    }
   ],
   "source": [
    "'''직접 작성한 코드로 이 예에서 각 요소의 최대값은 1000로 고려하고 작성했습니다.'''\n",
    "array = [1, 10 , 5, 9 , 8, 7, 6, 4, 3, 2]\n",
    "for i in range(len(array)):\n",
    "    min_val = 1001\n",
    "    index = 0\n",
    "    for j in range(i, len(array)): ## 최소값을 찾는 부분\n",
    "        if min_val > array[j]:\n",
    "            min_val = array[j]\n",
    "            index = j\n",
    "    ''' 스왑하는 부분 '''\n",
    "    temp = array[index]\n",
    "    array[index] = array[i]\n",
    "    array[i] = temp\n",
    "\n",
    "print(array)"
   ]
  },
  {
   "cell_type": "code",
   "execution_count": 5,
   "metadata": {},
   "outputs": [
    {
     "name": "stdout",
     "output_type": "stream",
     "text": [
      "[1, 2, 3, 4, 5, 6, 7, 8, 9, 10]\n"
     ]
    }
   ],
   "source": [
    "'''위키백과 코드입니다.'''\n",
    "def selectionSort(x):\n",
    "    length = len(x)\n",
    "    for i in range(length-1):\n",
    "        indexMin = i\n",
    "        for j in range(i+1, length):\n",
    "            if x[indexMin] > x[j]:\n",
    "                indexMin = j\n",
    "        x[i], x[indexMin] = x[indexMin], x[i]\n",
    "    return x\n",
    "\n",
    "print(selectionSort(array))"
   ]
  },
  {
   "cell_type": "markdown",
   "metadata": {},
   "source": [
    "### 클린 코드와의 차이\n",
    "- len(x)의 값을 변수로 저장 후 재사용\n",
    "    - len()함수의 재사용을 최소화하여 속도 향상\n",
    "- 리스트 요소의 최소 값을 따로 지정 하지 않았음\n",
    "    - 리스트의 첫 값과 모든 값을 비교하기 때문\n",
    "- range값의 변화\n",
    "    - 기존 코드는 T(n) = (n + n-1 + ... + 1)에서 T'(n) = (n-1 + n-2 + ... + 1)로 줄임\n",
    "- swap함수의 변화\n",
    "    - 파이썬의 문법의 장점을 이용"
   ]
  },
  {
   "cell_type": "code",
   "execution_count": null,
   "metadata": {},
   "outputs": [],
   "source": []
  }
 ],
 "metadata": {
  "kernelspec": {
   "display_name": "Python 3",
   "language": "python",
   "name": "python3"
  },
  "language_info": {
   "codemirror_mode": {
    "name": "ipython",
    "version": 3
   },
   "file_extension": ".py",
   "mimetype": "text/x-python",
   "name": "python",
   "nbconvert_exporter": "python",
   "pygments_lexer": "ipython3",
   "version": "3.7.4"
  }
 },
 "nbformat": 4,
 "nbformat_minor": 2
}
