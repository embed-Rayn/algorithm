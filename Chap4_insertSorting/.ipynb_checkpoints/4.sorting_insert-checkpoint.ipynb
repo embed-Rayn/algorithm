{
 "cells": [
  {
   "cell_type": "code",
   "execution_count": 1,
   "metadata": {},
   "outputs": [],
   "source": [
    "array = [1, 10 , 5, 9 , 8, 7, 6, 4, 3, 2]"
   ]
  },
  {
   "cell_type": "code",
   "execution_count": 2,
   "metadata": {},
   "outputs": [
    {
     "data": {
      "text/plain": [
       "[1, 2, 3, 4, 5, 6, 7, 8, 9, 10]"
      ]
     },
     "execution_count": 2,
     "metadata": {},
     "output_type": "execute_result"
    }
   ],
   "source": [
    "'''직접 작성한 코드입니다.'''\n",
    "def insertSorting(x):\n",
    "    len_x = len(x)\n",
    "    for key_idx in range(1, len_x):\n",
    "        j = key_idx - 1\n",
    "        key = x[key_idx]\n",
    "        while j >= 0 and x[j] > key:\n",
    "            x[j + 1] = x[j]\n",
    "            j = j - 1\n",
    "        x[j+1] = key\n",
    "    return x\n",
    "    \n",
    "insertSorting(array)"
   ]
  },
  {
   "cell_type": "code",
   "execution_count": 3,
   "metadata": {},
   "outputs": [
    {
     "name": "stdout",
     "output_type": "stream",
     "text": [
      "[1, 2, 3, 4, 5, 6, 7, 8, 9, 10]\n"
     ]
    }
   ],
   "source": [
    "'''위키백과 코드입니다.'''\n",
    "def insert_sort(x):\n",
    "    for i in range(1, len(x)):\n",
    "        j = i - 1\n",
    "        key = x[i]\n",
    "        while x[j] > key and j >= 0:\n",
    "            x[j+1] = x[j]\n",
    "            j = j - 1\n",
    "        x[j+1] = key\n",
    "    return x\n",
    "\n",
    "print(insert_sort(array))"
   ]
  },
  {
   "cell_type": "markdown",
   "metadata": {},
   "source": [
    "### 클린 코드와의 차이\n",
    "- 없음\n",
    "    - 코드를 작성하면서 오류가 몇 번 발생해서 클린 코드를 참고하였다.\n",
    "    - 마지막 `x[j+1] = key` 가 많이 헷갈렸는데 README에 있는 그림을 참고하면 이해하기 쉽다."
   ]
  },
  {
   "cell_type": "code",
   "execution_count": null,
   "metadata": {},
   "outputs": [],
   "source": []
  }
 ],
 "metadata": {
  "kernelspec": {
   "display_name": "Python 3",
   "language": "python",
   "name": "python3"
  },
  "language_info": {
   "codemirror_mode": {
    "name": "ipython",
    "version": 3
   },
   "file_extension": ".py",
   "mimetype": "text/x-python",
   "name": "python",
   "nbconvert_exporter": "python",
   "pygments_lexer": "ipython3",
   "version": "3.7.4"
  }
 },
 "nbformat": 4,
 "nbformat_minor": 2
}
