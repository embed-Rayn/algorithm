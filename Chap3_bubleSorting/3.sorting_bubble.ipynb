{
 "cells": [
  {
   "cell_type": "code",
   "execution_count": 2,
   "metadata": {},
   "outputs": [
    {
     "name": "stdout",
     "output_type": "stream",
     "text": [
      "[1, 2, 3, 4, 5, 6, 7, 8, 9, 10]\n"
     ]
    }
   ],
   "source": [
    "'''직접 작성한 코드입니다.'''\n",
    "array = [1, 10 , 5, 9 , 8, 7, 6, 4, 3, 2]\n",
    "def bubbleSorting(x):\n",
    "    len_x = len(x)\n",
    "    for i in range(len_x - 1):\n",
    "        for j in range(len_x - 1 - i):\n",
    "            if x[j] > x[j + 1]:\n",
    "                x[j], x[j + 1] = x[j + 1], x[j]\n",
    "    return x\n",
    "\n",
    "print(bubbleSorting(array))"
   ]
  },
  {
   "cell_type": "code",
   "execution_count": 3,
   "metadata": {},
   "outputs": [
    {
     "name": "stdout",
     "output_type": "stream",
     "text": [
      "[1, 2, 3, 4, 5, 6, 7, 8, 9, 10]\n"
     ]
    }
   ],
   "source": [
    "'''위키백과 코드입니다.'''\n",
    "def bubbleSort(x):\n",
    "    length = len(x)-1\n",
    "    for i in range(length):\n",
    "        for j in range(length-i):\n",
    "            if x[j] > x[j+1]:\n",
    "                x[j], x[j+1] = x[j+1], x[j]\n",
    "    return x\n",
    "\n",
    "print(bubbleSort(array))"
   ]
  },
  {
   "cell_type": "markdown",
   "metadata": {},
   "source": [
    "### 클린 코드와의 차이\n",
    "- 반복문 길이 변수의 차이\n",
    "    - 리스트 x의 길이 - 1 값이 반복 되므로 변수 선언시 미리 1을 빼줬다."
   ]
  },
  {
   "cell_type": "code",
   "execution_count": null,
   "metadata": {},
   "outputs": [],
   "source": []
  }
 ],
 "metadata": {
  "kernelspec": {
   "display_name": "Python 3",
   "language": "python",
   "name": "python3"
  },
  "language_info": {
   "codemirror_mode": {
    "name": "ipython",
    "version": 3
   },
   "file_extension": ".py",
   "mimetype": "text/x-python",
   "name": "python",
   "nbconvert_exporter": "python",
   "pygments_lexer": "ipython3",
   "version": "3.7.4"
  }
 },
 "nbformat": 4,
 "nbformat_minor": 2
}
